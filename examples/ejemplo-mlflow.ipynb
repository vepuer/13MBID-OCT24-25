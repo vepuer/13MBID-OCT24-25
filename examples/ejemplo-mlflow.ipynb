{
 "cells": [
  {
   "cell_type": "markdown",
   "metadata": {},
   "source": [
    "## Máster en Big Data y Data Science\n",
    "\n",
    "### Metodologías de gestión y diseño de proyectos de big data\n",
    "\n",
    "#### Sesión Práctica 01 - Ejemplo mlflow\n",
    "\n",
    "---\n",
    "\n",
    "En esta libreta se realizan una serie de pasos básicos para verificar la operatoria a seguir con respecto al registro del entrenamiento y evaluación de modelos de aprendizaje automático utilizando la librería mlflow."
   ]
  },
  {
   "cell_type": "code",
   "execution_count": 1,
   "metadata": {},
   "outputs": [],
   "source": [
    "import mlflow\n",
    "import numpy as np\n",
    "\n",
    "from sklearn.datasets import load_iris\n",
    "from sklearn.cluster import DBSCAN, KMeans\n",
    "from sklearn.metrics import (\n",
    "    silhouette_score,\n",
    "    davies_bouldin_score,\n",
    ")"
   ]
  },
  {
   "cell_type": "markdown",
   "metadata": {},
   "source": [
    "Se realiza en primera instancia la lectura del conjunto de datos que será uno genérico."
   ]
  },
  {
   "cell_type": "code",
   "execution_count": 2,
   "metadata": {},
   "outputs": [],
   "source": [
    "db = load_iris()\n",
    "features = db.data\n",
    "target = db.target"
   ]
  },
  {
   "cell_type": "markdown",
   "metadata": {},
   "source": [
    "Se ejecuta un método de clusterización haciendo uso de \"autolog\" de parte de la librería. Esta es una opción básica de registro que es de utilidad para los métodos de sklearn."
   ]
  },
  {
   "cell_type": "code",
   "execution_count": 3,
   "metadata": {},
   "outputs": [
    {
     "name": "stderr",
     "output_type": "stream",
     "text": [
      "2025/05/04 18:34:00 INFO mlflow.tracking.fluent: Autologging successfully enabled for sklearn.\n",
      "2025/05/04 18:34:01 WARNING mlflow.utils.autologging_utils: Encountered unexpected error during sklearn autologging: Could not find experiment with ID 0\n"
     ]
    },
    {
     "data": {
      "text/plain": [
       "array([ 0,  0,  0,  0,  0,  0,  0,  0,  0,  0,  0,  0,  0,  0,  0,  0,  0,\n",
       "        0,  0,  0,  0,  0,  0,  0,  0,  0,  0,  0,  0,  0,  0,  0,  0,  0,\n",
       "        0,  0,  0,  0,  0,  0,  0, -1,  0,  0,  0,  0,  0,  0,  0,  0,  1,\n",
       "        1,  1,  1,  1,  1,  1, -1,  1,  1, -1,  1,  1,  1,  1,  1,  1,  1,\n",
       "       -1,  1,  1,  1,  1,  1,  1,  1,  1,  1,  1,  1,  1,  1,  1,  1,  1,\n",
       "        1,  1, -1,  1,  1,  1,  1,  1, -1,  1,  1,  1,  1, -1,  1,  1,  1,\n",
       "        1,  1,  1, -1, -1,  1, -1, -1,  1,  1,  1,  1,  1,  1,  1, -1, -1,\n",
       "        1,  1,  1, -1,  1,  1,  1,  1,  1,  1,  1,  1, -1,  1,  1, -1, -1,\n",
       "        1,  1,  1,  1,  1,  1,  1,  1,  1,  1,  1,  1,  1,  1])"
      ]
     },
     "execution_count": 3,
     "metadata": {},
     "output_type": "execute_result"
    }
   ],
   "source": [
    "# Opción básica\n",
    "mlflow.autolog()\n",
    "\n",
    "# Clustering con DBSCAN.\n",
    "dbscan = DBSCAN(eps=0.5, min_samples=5)\n",
    "\n",
    "dbscan.fit_predict(features)"
   ]
  },
  {
   "cell_type": "code",
   "execution_count": 4,
   "metadata": {},
   "outputs": [
    {
     "name": "stderr",
     "output_type": "stream",
     "text": [
      "2025/05/04 18:34:30 WARNING mlflow.utils.autologging_utils: Encountered unexpected error during sklearn autologging: Could not find experiment with ID 0\n"
     ]
    },
    {
     "data": {
      "text/plain": [
       "array([1, 1, 1, 1, 1, 1, 1, 1, 1, 1, 1, 1, 1, 1, 1, 1, 1, 1, 1, 1, 1, 1,\n",
       "       1, 1, 1, 1, 1, 1, 1, 1, 1, 1, 1, 1, 1, 1, 1, 1, 1, 1, 1, 1, 1, 1,\n",
       "       1, 1, 1, 1, 1, 1, 0, 2, 0, 2, 2, 2, 2, 2, 2, 2, 2, 2, 2, 2, 2, 2,\n",
       "       2, 2, 2, 2, 2, 2, 2, 2, 2, 2, 2, 0, 2, 2, 2, 2, 2, 2, 2, 2, 2, 2,\n",
       "       2, 2, 2, 2, 2, 2, 2, 2, 2, 2, 2, 2, 0, 2, 0, 0, 0, 0, 2, 0, 0, 0,\n",
       "       0, 0, 0, 2, 2, 0, 0, 0, 0, 2, 0, 2, 0, 2, 0, 0, 2, 2, 0, 0, 0, 0,\n",
       "       0, 2, 0, 0, 0, 0, 2, 0, 0, 0, 2, 0, 0, 0, 2, 0, 0, 2], dtype=int32)"
      ]
     },
     "execution_count": 4,
     "metadata": {},
     "output_type": "execute_result"
    }
   ],
   "source": [
    "# Clustering con Kmeans.\n",
    "kmeans = KMeans(n_clusters=3, random_state=42)\n",
    "\n",
    "kmeans.fit_predict(features)\n",
    "\n",
    "# davies_bouldin_score(features, kmeans.fit_predict(features))"
   ]
  },
  {
   "cell_type": "markdown",
   "metadata": {},
   "source": [
    "Se muestran ejemplos con una denominación diferente para la experimentación a realizar a fin de dejar mayor registro."
   ]
  },
  {
   "cell_type": "code",
   "execution_count": 5,
   "metadata": {},
   "outputs": [
    {
     "name": "stderr",
     "output_type": "stream",
     "text": [
      "2025/05/04 18:34:32 WARNING mlflow.sklearn: Training metrics will not be recorded because training labels were not specified. To automatically record training metrics, provide training labels as inputs to the model training function.\n",
      "2025/05/04 18:34:48 WARNING mlflow.utils.environment: Failed to resolve installed pip version. ``pip`` will be added to conda.yaml environment spec without a version specifier.\n",
      "2025/05/04 18:34:57 WARNING mlflow.utils.environment: Failed to resolve installed pip version. ``pip`` will be added to conda.yaml environment spec without a version specifier.\n"
     ]
    },
    {
     "data": {
      "application/vnd.jupyter.widget-view+json": {
       "model_id": "68b91e5db0354b0da9c3b57f7099ad59",
       "version_major": 2,
       "version_minor": 0
      },
      "text/plain": [
       "Downloading artifacts:   0%|          | 0/7 [00:00<?, ?it/s]"
      ]
     },
     "metadata": {},
     "output_type": "display_data"
    }
   ],
   "source": [
    "# Se puede hacer una experimentación nominal\n",
    "\n",
    "exp_name = 'Clustering-Ejemplos'\n",
    "exp_id = mlflow.create_experiment(name=exp_name)\n",
    "\n",
    "with mlflow.start_run(experiment_id=exp_id, run_name=\"Kmeans - K=2\"):\n",
    "    modelo_clusters = KMeans(n_clusters=2)\n",
    "    trained_model = modelo_clusters.fit(features)\n",
    "    cluster_labels = trained_model.labels_\n",
    "    score = silhouette_score(features, cluster_labels)\n",
    "    #save parameter\n",
    "    mlflow.log_param('value_of_k', 2)\n",
    "    #save metric\n",
    "    mlflow.log_metric('silhoutte_score', score)\n",
    "    #save model\n",
    "    input_example = np.array([features[0]])  # Example input\n",
    "    mlflow.sklearn.log_model(trained_model, \"Clustering_Model\", input_example=input_example)\n",
    "    #end current run\n",
    "    mlflow.end_run()"
   ]
  },
  {
   "cell_type": "code",
   "execution_count": 6,
   "metadata": {},
   "outputs": [
    {
     "name": "stderr",
     "output_type": "stream",
     "text": [
      "2025/05/04 18:35:00 WARNING mlflow.sklearn: Training metrics will not be recorded because training labels were not specified. To automatically record training metrics, provide training labels as inputs to the model training function.\n",
      "2025/05/04 18:35:08 WARNING mlflow.utils.environment: Failed to resolve installed pip version. ``pip`` will be added to conda.yaml environment spec without a version specifier.\n",
      "2025/05/04 18:35:20 WARNING mlflow.utils.environment: Failed to resolve installed pip version. ``pip`` will be added to conda.yaml environment spec without a version specifier.\n"
     ]
    },
    {
     "data": {
      "application/vnd.jupyter.widget-view+json": {
       "model_id": "13b3da8e144c4453b2c3e61a6036df08",
       "version_major": 2,
       "version_minor": 0
      },
      "text/plain": [
       "Downloading artifacts:   0%|          | 0/7 [00:00<?, ?it/s]"
      ]
     },
     "metadata": {},
     "output_type": "display_data"
    }
   ],
   "source": [
    "with mlflow.start_run(experiment_id=exp_id, run_name=\"Kmeans - K=3\"):\n",
    "    modelo_clusters = KMeans(n_clusters=3)\n",
    "    trained_model = modelo_clusters.fit(features)\n",
    "    cluster_labels = trained_model.labels_\n",
    "    score = silhouette_score(features, cluster_labels)\n",
    "    score_2 = davies_bouldin_score(features, cluster_labels)\n",
    "    #save parameter\n",
    "    mlflow.log_param('value_of_k', 3)\n",
    "    #save metric\n",
    "    mlflow.log_metric('silhoutte_score', score)\n",
    "    mlflow.log_metric('davies_bouldin_score', score_2)\n",
    "    #save model\n",
    "    input_example = np.array([features[0]])  # Example input\n",
    "    mlflow.sklearn.log_model(trained_model, \"Clustering_Model\", input_example=input_example)\n",
    "    #end current run\n",
    "    mlflow.end_run()"
   ]
  },
  {
   "cell_type": "code",
   "execution_count": 7,
   "metadata": {},
   "outputs": [
    {
     "name": "stderr",
     "output_type": "stream",
     "text": [
      "2025/05/04 18:35:21 WARNING mlflow.sklearn: Training metrics will not be recorded because training labels were not specified. To automatically record training metrics, provide training labels as inputs to the model training function.\n",
      "2025/05/04 18:35:21 WARNING mlflow.sklearn: Failed to infer model signature: the trained model does not have a `predict` or `transform` function, which is required in order to infer the signature\n",
      "2025/05/04 18:35:21 WARNING mlflow.sklearn: Model was missing function: predict. Not logging python_function flavor!\n",
      "2025/05/04 18:35:33 WARNING mlflow.utils.environment: Failed to resolve installed pip version. ``pip`` will be added to conda.yaml environment spec without a version specifier.\n",
      "2025/05/04 18:35:33 WARNING mlflow.models.model: Model logged without a signature and input example. Please set `input_example` parameter when logging the model to auto infer the model signature.\n",
      "2025/05/04 18:35:33 WARNING mlflow.models.signature: Failed to infer the model signature from the input example. Reason: AttributeError(\"'DBSCAN' object has no attribute 'predict'\"). To see the full traceback, set the logging level to DEBUG via `logging.getLogger(\"mlflow\").setLevel(logging.DEBUG)`.\n",
      "2025/05/04 18:35:33 WARNING mlflow.sklearn: Model was missing function: predict. Not logging python_function flavor!\n",
      "2025/05/04 18:35:42 WARNING mlflow.utils.environment: Failed to resolve installed pip version. ``pip`` will be added to conda.yaml environment spec without a version specifier.\n"
     ]
    },
    {
     "data": {
      "application/vnd.jupyter.widget-view+json": {
       "model_id": "35415159d70740cd9be497bf446b0bfd",
       "version_major": 2,
       "version_minor": 0
      },
      "text/plain": [
       "Downloading artifacts:   0%|          | 0/7 [00:00<?, ?it/s]"
      ]
     },
     "metadata": {},
     "output_type": "display_data"
    },
    {
     "name": "stderr",
     "output_type": "stream",
     "text": [
      "2025/05/04 18:35:42 WARNING mlflow.models.model: Failed to validate serving input example {\n",
      "  \"inputs\": [\n",
      "    [\n",
      "      5.1,\n",
      "      3.5,\n",
      "      1.4,\n",
      "      0.2\n",
      "    ]\n",
      "  ]\n",
      "}. Alternatively, you can avoid passing input example and pass model signature instead when logging the model. To ensure the input example is valid prior to serving, please try calling `mlflow.models.validate_serving_input` on the model uri and serving input example. A serving input example can be generated from model input example using `mlflow.models.convert_input_example_to_serving_input` function.\n",
      "Got error: Model does not have the \"python_function\" flavor\n"
     ]
    }
   ],
   "source": [
    "with mlflow.start_run(experiment_id=exp_id, run_name=\"DBSCAN\"):\n",
    "    modelo_clusters = DBSCAN(eps=0.5, min_samples=5)\n",
    "    trained_model = modelo_clusters.fit(features)\n",
    "    cluster_labels = trained_model.labels_\n",
    "    score=silhouette_score(features, cluster_labels)\n",
    "    #save parameter\n",
    "    mlflow.log_param('min_samples', 5)\n",
    "    mlflow.log_param('eps', 0.5)\n",
    "    #save metric\n",
    "    mlflow.log_metric('silhoutte_score', score)\n",
    "    #save model\n",
    "    input_example = np.array([features[0]])  # Example input\n",
    "    mlflow.sklearn.log_model(trained_model, \"Clustering_Model\", input_example=input_example)\n",
    "    #end current run\n",
    "    mlflow.end_run()"
   ]
  },
  {
   "cell_type": "markdown",
   "metadata": {},
   "source": [
    "Este comando es el que permite visualizar la interfaz de mlflow en un navegador web. Se debe considerar ejecutarlo en la misma ubicación que contiene al directorio `mlruns`."
   ]
  },
  {
   "cell_type": "code",
   "execution_count": null,
   "metadata": {},
   "outputs": [],
   "source": [
    "!mlflow ui"
   ]
  }
 ],
 "metadata": {
  "kernelspec": {
   "display_name": ".venv",
   "language": "python",
   "name": "python3"
  },
  "language_info": {
   "codemirror_mode": {
    "name": "ipython",
    "version": 3
   },
   "file_extension": ".py",
   "mimetype": "text/x-python",
   "name": "python",
   "nbconvert_exporter": "python",
   "pygments_lexer": "ipython3",
   "version": "3.12.10"
  },
  "orig_nbformat": 4
 },
 "nbformat": 4,
 "nbformat_minor": 2
}
