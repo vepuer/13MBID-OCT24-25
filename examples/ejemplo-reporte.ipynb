{
 "cells": [
  {
   "cell_type": "markdown",
   "metadata": {},
   "source": [
    "## Máster en Big Data y Data Science\n",
    "\n",
    "### Metodologías de gestión y diseño de proyectos de big data\n",
    "\n",
    "#### Sesión Práctica 01 - Ejemplo reporte con ydata-profiling\n",
    "\n",
    "---\n",
    "\n",
    "En esta libreta se realizan una serie de pasos básicos para verificar la funcionalidad de generación de reportes con la librería seleccionada (ydata-profiling)."
   ]
  },
  {
   "cell_type": "code",
   "execution_count": 1,
   "metadata": {},
   "outputs": [
    {
     "data": {
      "text/html": [
       "\n",
       "        <div>\n",
       "            <ins><a href=\"https://ydata.ai/register\">Upgrade to ydata-sdk</a></ins>\n",
       "            <p>\n",
       "                Improve your data and profiling with ydata-sdk, featuring data quality scoring, redundancy detection, outlier identification, text validation, and synthetic data generation.\n",
       "            </p>\n",
       "        </div>\n",
       "        "
      ],
      "text/plain": [
       "<IPython.core.display.HTML object>"
      ]
     },
     "metadata": {},
     "output_type": "display_data"
    }
   ],
   "source": [
    "import pandas as pd\n",
    "from ydata_profiling import ProfileReport"
   ]
  },
  {
   "cell_type": "markdown",
   "metadata": {},
   "source": [
    "Se realiza en primera instancia la lectura del conjunto de datos."
   ]
  },
  {
   "cell_type": "code",
   "execution_count": 2,
   "metadata": {},
   "outputs": [
    {
     "data": {
      "text/html": [
       "<div>\n",
       "<style scoped>\n",
       "    .dataframe tbody tr th:only-of-type {\n",
       "        vertical-align: middle;\n",
       "    }\n",
       "\n",
       "    .dataframe tbody tr th {\n",
       "        vertical-align: top;\n",
       "    }\n",
       "\n",
       "    .dataframe thead th {\n",
       "        text-align: right;\n",
       "    }\n",
       "</style>\n",
       "<table border=\"1\" class=\"dataframe\">\n",
       "  <thead>\n",
       "    <tr style=\"text-align: right;\">\n",
       "      <th></th>\n",
       "      <th>id_cliente</th>\n",
       "      <th>edad</th>\n",
       "      <th>importe_solicitado</th>\n",
       "      <th>duracion_credito</th>\n",
       "      <th>antiguedad_empleado</th>\n",
       "      <th>situacion_vivienda</th>\n",
       "      <th>ingresos</th>\n",
       "      <th>objetivo_credito</th>\n",
       "      <th>pct_ingreso</th>\n",
       "      <th>tasa_interes</th>\n",
       "      <th>estado_credito</th>\n",
       "      <th>falta_pago</th>\n",
       "    </tr>\n",
       "  </thead>\n",
       "  <tbody>\n",
       "    <tr>\n",
       "      <th>0</th>\n",
       "      <td>713061558.0</td>\n",
       "      <td>22</td>\n",
       "      <td>35000</td>\n",
       "      <td>3</td>\n",
       "      <td>123.0</td>\n",
       "      <td>ALQUILER</td>\n",
       "      <td>59000</td>\n",
       "      <td>PERSONAL</td>\n",
       "      <td>0.59</td>\n",
       "      <td>16.02</td>\n",
       "      <td>1</td>\n",
       "      <td>Y</td>\n",
       "    </tr>\n",
       "    <tr>\n",
       "      <th>1</th>\n",
       "      <td>768805383.0</td>\n",
       "      <td>21</td>\n",
       "      <td>1000</td>\n",
       "      <td>2</td>\n",
       "      <td>5.0</td>\n",
       "      <td>PROPIA</td>\n",
       "      <td>9600</td>\n",
       "      <td>EDUCACIÓN</td>\n",
       "      <td>0.10</td>\n",
       "      <td>11.14</td>\n",
       "      <td>0</td>\n",
       "      <td>N</td>\n",
       "    </tr>\n",
       "    <tr>\n",
       "      <th>2</th>\n",
       "      <td>818770008.0</td>\n",
       "      <td>25</td>\n",
       "      <td>5500</td>\n",
       "      <td>3</td>\n",
       "      <td>1.0</td>\n",
       "      <td>HIPOTECA</td>\n",
       "      <td>9600</td>\n",
       "      <td>SALUD</td>\n",
       "      <td>0.57</td>\n",
       "      <td>12.87</td>\n",
       "      <td>1</td>\n",
       "      <td>N</td>\n",
       "    </tr>\n",
       "    <tr>\n",
       "      <th>3</th>\n",
       "      <td>713982108.0</td>\n",
       "      <td>23</td>\n",
       "      <td>35000</td>\n",
       "      <td>2</td>\n",
       "      <td>4.0</td>\n",
       "      <td>ALQUILER</td>\n",
       "      <td>65500</td>\n",
       "      <td>SALUD</td>\n",
       "      <td>0.53</td>\n",
       "      <td>15.23</td>\n",
       "      <td>1</td>\n",
       "      <td>N</td>\n",
       "    </tr>\n",
       "    <tr>\n",
       "      <th>4</th>\n",
       "      <td>710821833.0</td>\n",
       "      <td>24</td>\n",
       "      <td>35000</td>\n",
       "      <td>4</td>\n",
       "      <td>8.0</td>\n",
       "      <td>ALQUILER</td>\n",
       "      <td>54400</td>\n",
       "      <td>SALUD</td>\n",
       "      <td>0.55</td>\n",
       "      <td>14.27</td>\n",
       "      <td>1</td>\n",
       "      <td>Y</td>\n",
       "    </tr>\n",
       "  </tbody>\n",
       "</table>\n",
       "</div>"
      ],
      "text/plain": [
       "    id_cliente  edad  importe_solicitado  duracion_credito  \\\n",
       "0  713061558.0    22               35000                 3   \n",
       "1  768805383.0    21                1000                 2   \n",
       "2  818770008.0    25                5500                 3   \n",
       "3  713982108.0    23               35000                 2   \n",
       "4  710821833.0    24               35000                 4   \n",
       "\n",
       "   antiguedad_empleado situacion_vivienda  ingresos objetivo_credito  \\\n",
       "0                123.0           ALQUILER     59000         PERSONAL   \n",
       "1                  5.0             PROPIA      9600        EDUCACIÓN   \n",
       "2                  1.0           HIPOTECA      9600            SALUD   \n",
       "3                  4.0           ALQUILER     65500            SALUD   \n",
       "4                  8.0           ALQUILER     54400            SALUD   \n",
       "\n",
       "   pct_ingreso  tasa_interes  estado_credito falta_pago  \n",
       "0         0.59         16.02               1          Y  \n",
       "1         0.10         11.14               0          N  \n",
       "2         0.57         12.87               1          N  \n",
       "3         0.53         15.23               1          N  \n",
       "4         0.55         14.27               1          Y  "
      ]
     },
     "execution_count": 2,
     "metadata": {},
     "output_type": "execute_result"
    }
   ],
   "source": [
    "df_creditos = pd.read_csv(\"../data/raw/datos_creditos.csv\", sep=\";\")\n",
    "df_creditos.head(5)"
   ]
  },
  {
   "cell_type": "markdown",
   "metadata": {},
   "source": [
    "Se genera el reporte y se lo exporta a un archivo HTML"
   ]
  },
  {
   "cell_type": "code",
   "execution_count": 3,
   "metadata": {},
   "outputs": [
    {
     "data": {
      "application/vnd.jupyter.widget-view+json": {
       "model_id": "aa55ed549c244469a59b21e21f455056",
       "version_major": 2,
       "version_minor": 0
      },
      "text/plain": [
       "Summarize dataset:   0%|          | 0/5 [00:00<?, ?it/s]"
      ]
     },
     "metadata": {},
     "output_type": "display_data"
    },
    {
     "data": {
      "application/vnd.jupyter.widget-view+json": {
       "model_id": "e8bbc86f5cc94eb9a819a9b88687c94e",
       "version_major": 2,
       "version_minor": 0
      },
      "text/plain": [
       "Generate report structure:   0%|          | 0/1 [00:00<?, ?it/s]"
      ]
     },
     "metadata": {},
     "output_type": "display_data"
    },
    {
     "data": {
      "application/vnd.jupyter.widget-view+json": {
       "model_id": "04f1619248f544a4b29b1d8f7070b97c",
       "version_major": 2,
       "version_minor": 0
      },
      "text/plain": [
       "Render HTML:   0%|          | 0/1 [00:00<?, ?it/s]"
      ]
     },
     "metadata": {},
     "output_type": "display_data"
    },
    {
     "data": {
      "application/vnd.jupyter.widget-view+json": {
       "model_id": "5b8556e0d54e48cab851a56e46b62e3e",
       "version_major": 2,
       "version_minor": 0
      },
      "text/plain": [
       "Export report to file:   0%|          | 0/1 [00:00<?, ?it/s]"
      ]
     },
     "metadata": {},
     "output_type": "display_data"
    }
   ],
   "source": [
    "profile = ProfileReport(df_creditos, title=\"Reporte de verificación - Créditos\")\n",
    "profile.to_file(\"../docs/reporte_verificacion.html\")"
   ]
  }
 ],
 "metadata": {
  "kernelspec": {
   "display_name": ".venv",
   "language": "python",
   "name": "python3"
  },
  "language_info": {
   "codemirror_mode": {
    "name": "ipython",
    "version": 3
   },
   "file_extension": ".py",
   "mimetype": "text/x-python",
   "name": "python",
   "nbconvert_exporter": "python",
   "pygments_lexer": "ipython3",
   "version": "3.12.10"
  }
 },
 "nbformat": 4,
 "nbformat_minor": 2
}
