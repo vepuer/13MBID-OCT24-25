{
 "cells": [
  {
   "cell_type": "markdown",
   "metadata": {},
   "source": [
    "## Máster en Big Data y Data Science\n",
    "\n",
    "### Metodologías de gestión y diseño de proyectos de big data\n",
    "\n",
    "#### Sesión Práctica 01 - Introducción\n",
    "\n",
    "---\n",
    "\n",
    "En esta libreta se realiza la importación de las librerías a utilizar durante la ejecución de la práctica de la asignatura. El objetivo es verificar que el entorno especificado haya podido ser replicado en el equipo de cada estudiante."
   ]
  },
  {
   "cell_type": "code",
   "execution_count": 1,
   "metadata": {},
   "outputs": [
    {
     "data": {
      "text/html": [
       "\n",
       "        <div>\n",
       "            <ins><a href=\"https://ydata.ai/register\">Upgrade to ydata-sdk</a></ins>\n",
       "            <p>\n",
       "                Improve your data and profiling with ydata-sdk, featuring data quality scoring, redundancy detection, outlier identification, text validation, and synthetic data generation.\n",
       "            </p>\n",
       "        </div>\n",
       "        "
      ],
      "text/plain": [
       "<IPython.core.display.HTML object>"
      ]
     },
     "metadata": {},
     "output_type": "display_data"
    },
    {
     "name": "stdout",
     "output_type": "stream",
     "text": [
      "Pandas version:  2.2.3\n",
      "Numpy version:  2.1.3\n",
      "Matplotlib version:  3.10.0\n",
      "MLFlow version:  2.20.3\n",
      "Sklearn version:  1.6.1\n",
      "YData Profiling version:  v4.13.0\n",
      "Streamlit version:  1.43.0\n"
     ]
    }
   ],
   "source": [
    "import pandas as pd\n",
    "import numpy as np\n",
    "import matplotlib as plt\n",
    "import mlflow\n",
    "import sklearn\n",
    "import ydata_profiling as ydp\n",
    "import streamlit as st\n",
    "\n",
    "print(\"Pandas version: \", pd.__version__)\n",
    "print(\"Numpy version: \", np.__version__)\n",
    "print(\"Matplotlib version: \", plt.__version__)\n",
    "print(\"MLFlow version: \", mlflow.__version__)\n",
    "print(\"Sklearn version: \", sklearn.__version__)\n",
    "print(\"YData Profiling version: \", ydp.__version__)\n",
    "print(\"Streamlit version: \", st.__version__)"
   ]
  }
 ],
 "metadata": {
  "kernelspec": {
   "display_name": ".venv",
   "language": "python",
   "name": "python3"
  },
  "language_info": {
   "codemirror_mode": {
    "name": "ipython",
    "version": 3
   },
   "file_extension": ".py",
   "mimetype": "text/x-python",
   "name": "python",
   "nbconvert_exporter": "python",
   "pygments_lexer": "ipython3",
   "version": "3.12.10"
  },
  "orig_nbformat": 4
 },
 "nbformat": 4,
 "nbformat_minor": 2
}
