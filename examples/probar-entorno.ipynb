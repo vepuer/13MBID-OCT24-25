{
 "cells": [
  {
   "cell_type": "markdown",
   "metadata": {},
   "source": [
    "## Máster en Big Data y Data Science\n",
    "\n",
    "### Metodologías de gestión y diseño de proyectos de big data\n",
    "\n",
    "#### Sesión Práctica 01 - Introducción\n",
    "\n",
    "---\n",
    "\n",
    "En esta libreta se realiza la importación de las librerías a utilizar durante la ejecución de la práctica de la asignatura. El objetivo es verificar que el entorno especificado haya podido ser replicado en el equipo de cada estudiante."
   ]
  },
  {
   "cell_type": "code",
   "execution_count": 1,
   "metadata": {},
   "outputs": [
    {
     "name": "stdout",
     "output_type": "stream",
     "text": [
      "Pandas version:  2.0.3\n",
      "Numpy version:  1.24.4\n",
      "Matplotlib version:  3.8.0\n",
      "MLFlow version:  2.7.1\n",
      "Sklearn version:  1.3.1\n",
      "YData Profiling version:  0.0.dev0\n",
      "Streamlit version:  1.43.0\n"
     ]
    }
   ],
   "source": [
    "import pandas as pd\n",
    "import numpy as np\n",
    "import matplotlib as plt\n",
    "import mlflow\n",
    "import sklearn\n",
    "import ydata_profiling as ydp\n",
    "import streamlit as st\n",
    "\n",
    "print(\"Pandas version: \", pd.__version__)\n",
    "print(\"Numpy version: \", np.__version__)\n",
    "print(\"Matplotlib version: \", plt.__version__)\n",
    "print(\"MLFlow version: \", mlflow.__version__)\n",
    "print(\"Sklearn version: \", sklearn.__version__)\n",
    "print(\"YData Profiling version: \", ydp.__version__)\n",
    "print(\"Streamlit version: \", st.__version__)"
   ]
  },
  {
   "cell_type": "markdown",
   "metadata": {},
   "source": [
    "El módulo \"streamlit\" no se encuentra en \"conda-windows.yaml\". Por lo que se ha clonado el entorno y se ha añadido la versión 1.43.0, tal y como tenía el profesor.\n",
    "\n",
    "Después ha aparecido este warning\n",
    "\"c:\\Users\\Vero\\anaconda3\\envs\\viu-13mbid-updated\\Lib\\site-packages\\tqdm\\auto.py:21: TqdmWarning: IProgress not found. Please update jupyter and ipywidgets. See https://ipywidgets.readthedocs.io/en/stable/user_install.html\n",
    "  from .autonotebook import tqdm as notebook_tqdm\"\n",
    "\n",
    "Se ha procedido de la siguiente forma:\n",
    "* conda install ipywidgets\n"
   ]
  }
 ],
 "metadata": {
  "kernelspec": {
   "display_name": "viu-13mbid-updated",
   "language": "python",
   "name": "python3"
  },
  "language_info": {
   "codemirror_mode": {
    "name": "ipython",
    "version": 3
   },
   "file_extension": ".py",
   "mimetype": "text/x-python",
   "name": "python",
   "nbconvert_exporter": "python",
   "pygments_lexer": "ipython3",
   "version": "3.11.5"
  },
  "orig_nbformat": 4
 },
 "nbformat": 4,
 "nbformat_minor": 2
}
