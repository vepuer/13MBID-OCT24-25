{
 "cells": [
  {
   "cell_type": "markdown",
   "metadata": {},
   "source": [
    "## Máster en Big Data y Data Science\n",
    "\n",
    "### Metodologías de gestión y diseño de proyectos de big data\n",
    "\n",
    "#### AP2 - Descubrimiento de grupos en los datos\n",
    "\n",
    "---\n",
    "\n",
    "En esta libreta se generan los modelos de clusterización sobre el dataset final del escenario para su posterior evaluación y análisis. Se utilizará como herramienta de soporte a mlflow para el registro completo de la experimentación. \n",
    "\n",
    "---"
   ]
  },
  {
   "cell_type": "code",
   "execution_count": 1,
   "metadata": {},
   "outputs": [],
   "source": [
    "# Importación de librerías\n",
    "\n",
    "import pandas as pd\n",
    "# Se importa mlflow para registro de la experimentación \n",
    "import mlflow\n",
    "# Se importan los métodos a utilizar para clusterizar\n",
    "from sklearn.cluster import KMeans, AgglomerativeClustering, Birch\n",
    "# Otras opciones: DBSCAN, MeanShift, BisectingKMeans\n",
    "\n",
    "# Se importan las métricas a utilizar para evaluar el proceso\n",
    "from sklearn.metrics import silhouette_score, davies_bouldin_score, calinski_harabasz_score\n",
    "from mlflow.models.signature import infer_signature"
   ]
  },
  {
   "cell_type": "markdown",
   "metadata": {},
   "source": [
    "----\n",
    "\n",
    "##### Lectura del dataset"
   ]
  },
  {
   "cell_type": "code",
   "execution_count": 2,
   "metadata": {},
   "outputs": [
    {
     "data": {
      "text/html": [
       "<div>\n",
       "<style scoped>\n",
       "    .dataframe tbody tr th:only-of-type {\n",
       "        vertical-align: middle;\n",
       "    }\n",
       "\n",
       "    .dataframe tbody tr th {\n",
       "        vertical-align: top;\n",
       "    }\n",
       "\n",
       "    .dataframe thead th {\n",
       "        text-align: right;\n",
       "    }\n",
       "</style>\n",
       "<table border=\"1\" class=\"dataframe\">\n",
       "  <thead>\n",
       "    <tr style=\"text-align: right;\">\n",
       "      <th></th>\n",
       "      <th>edad</th>\n",
       "      <th>importe_solicitado</th>\n",
       "      <th>duracion_credito</th>\n",
       "      <th>antiguedad_empleado</th>\n",
       "      <th>ingresos</th>\n",
       "      <th>pct_ingreso</th>\n",
       "      <th>tasa_interes</th>\n",
       "      <th>estado_credito</th>\n",
       "      <th>antiguedad_cliente</th>\n",
       "      <th>gastos_ult_12m</th>\n",
       "      <th>...</th>\n",
       "      <th>estado_cliente_ACTIVO</th>\n",
       "      <th>estado_cliente_PASIVO</th>\n",
       "      <th>genero_F</th>\n",
       "      <th>genero_M</th>\n",
       "      <th>nivel_educativo_DESCONOCIDO</th>\n",
       "      <th>nivel_educativo_POSGRADO_COMPLETO</th>\n",
       "      <th>nivel_educativo_POSGRADO_INCOMPLETO</th>\n",
       "      <th>nivel_educativo_SECUNDARIO_COMPLETO</th>\n",
       "      <th>nivel_educativo_UNIVERSITARIO_COMPLETO</th>\n",
       "      <th>nivel_educativo_UNIVERSITARIO_INCOMPLETO</th>\n",
       "    </tr>\n",
       "  </thead>\n",
       "  <tbody>\n",
       "    <tr>\n",
       "      <th>0</th>\n",
       "      <td>21</td>\n",
       "      <td>1000</td>\n",
       "      <td>2</td>\n",
       "      <td>5.0</td>\n",
       "      <td>9600</td>\n",
       "      <td>0.10</td>\n",
       "      <td>11.14</td>\n",
       "      <td>0</td>\n",
       "      <td>39.0</td>\n",
       "      <td>1144.0</td>\n",
       "      <td>...</td>\n",
       "      <td>True</td>\n",
       "      <td>False</td>\n",
       "      <td>False</td>\n",
       "      <td>True</td>\n",
       "      <td>False</td>\n",
       "      <td>False</td>\n",
       "      <td>False</td>\n",
       "      <td>True</td>\n",
       "      <td>False</td>\n",
       "      <td>False</td>\n",
       "    </tr>\n",
       "    <tr>\n",
       "      <th>1</th>\n",
       "      <td>23</td>\n",
       "      <td>35000</td>\n",
       "      <td>2</td>\n",
       "      <td>4.0</td>\n",
       "      <td>65500</td>\n",
       "      <td>0.53</td>\n",
       "      <td>15.23</td>\n",
       "      <td>1</td>\n",
       "      <td>36.0</td>\n",
       "      <td>1887.0</td>\n",
       "      <td>...</td>\n",
       "      <td>True</td>\n",
       "      <td>False</td>\n",
       "      <td>False</td>\n",
       "      <td>True</td>\n",
       "      <td>False</td>\n",
       "      <td>False</td>\n",
       "      <td>False</td>\n",
       "      <td>False</td>\n",
       "      <td>True</td>\n",
       "      <td>False</td>\n",
       "    </tr>\n",
       "    <tr>\n",
       "      <th>2</th>\n",
       "      <td>24</td>\n",
       "      <td>35000</td>\n",
       "      <td>4</td>\n",
       "      <td>8.0</td>\n",
       "      <td>54400</td>\n",
       "      <td>0.55</td>\n",
       "      <td>14.27</td>\n",
       "      <td>1</td>\n",
       "      <td>54.0</td>\n",
       "      <td>1314.0</td>\n",
       "      <td>...</td>\n",
       "      <td>True</td>\n",
       "      <td>False</td>\n",
       "      <td>False</td>\n",
       "      <td>True</td>\n",
       "      <td>True</td>\n",
       "      <td>False</td>\n",
       "      <td>False</td>\n",
       "      <td>False</td>\n",
       "      <td>False</td>\n",
       "      <td>False</td>\n",
       "    </tr>\n",
       "    <tr>\n",
       "      <th>3</th>\n",
       "      <td>21</td>\n",
       "      <td>2500</td>\n",
       "      <td>2</td>\n",
       "      <td>2.0</td>\n",
       "      <td>9900</td>\n",
       "      <td>0.25</td>\n",
       "      <td>7.14</td>\n",
       "      <td>1</td>\n",
       "      <td>34.0</td>\n",
       "      <td>1171.0</td>\n",
       "      <td>...</td>\n",
       "      <td>True</td>\n",
       "      <td>False</td>\n",
       "      <td>True</td>\n",
       "      <td>False</td>\n",
       "      <td>False</td>\n",
       "      <td>False</td>\n",
       "      <td>False</td>\n",
       "      <td>True</td>\n",
       "      <td>False</td>\n",
       "      <td>False</td>\n",
       "    </tr>\n",
       "    <tr>\n",
       "      <th>4</th>\n",
       "      <td>26</td>\n",
       "      <td>35000</td>\n",
       "      <td>3</td>\n",
       "      <td>8.0</td>\n",
       "      <td>77100</td>\n",
       "      <td>0.45</td>\n",
       "      <td>12.42</td>\n",
       "      <td>1</td>\n",
       "      <td>21.0</td>\n",
       "      <td>816.0</td>\n",
       "      <td>...</td>\n",
       "      <td>True</td>\n",
       "      <td>False</td>\n",
       "      <td>False</td>\n",
       "      <td>True</td>\n",
       "      <td>False</td>\n",
       "      <td>False</td>\n",
       "      <td>False</td>\n",
       "      <td>False</td>\n",
       "      <td>False</td>\n",
       "      <td>True</td>\n",
       "    </tr>\n",
       "  </tbody>\n",
       "</table>\n",
       "<p>5 rows × 39 columns</p>\n",
       "</div>"
      ],
      "text/plain": [
       "   edad  importe_solicitado  duracion_credito  antiguedad_empleado  ingresos  \\\n",
       "0    21                1000                 2                  5.0      9600   \n",
       "1    23               35000                 2                  4.0     65500   \n",
       "2    24               35000                 4                  8.0     54400   \n",
       "3    21                2500                 2                  2.0      9900   \n",
       "4    26               35000                 3                  8.0     77100   \n",
       "\n",
       "   pct_ingreso  tasa_interes  estado_credito  antiguedad_cliente  \\\n",
       "0         0.10         11.14               0                39.0   \n",
       "1         0.53         15.23               1                36.0   \n",
       "2         0.55         14.27               1                54.0   \n",
       "3         0.25          7.14               1                34.0   \n",
       "4         0.45         12.42               1                21.0   \n",
       "\n",
       "   gastos_ult_12m  ...  estado_cliente_ACTIVO  estado_cliente_PASIVO  \\\n",
       "0          1144.0  ...                   True                  False   \n",
       "1          1887.0  ...                   True                  False   \n",
       "2          1314.0  ...                   True                  False   \n",
       "3          1171.0  ...                   True                  False   \n",
       "4           816.0  ...                   True                  False   \n",
       "\n",
       "   genero_F  genero_M  nivel_educativo_DESCONOCIDO  \\\n",
       "0     False      True                        False   \n",
       "1     False      True                        False   \n",
       "2     False      True                         True   \n",
       "3      True     False                        False   \n",
       "4     False      True                        False   \n",
       "\n",
       "   nivel_educativo_POSGRADO_COMPLETO  nivel_educativo_POSGRADO_INCOMPLETO  \\\n",
       "0                              False                                False   \n",
       "1                              False                                False   \n",
       "2                              False                                False   \n",
       "3                              False                                False   \n",
       "4                              False                                False   \n",
       "\n",
       "   nivel_educativo_SECUNDARIO_COMPLETO  \\\n",
       "0                                 True   \n",
       "1                                False   \n",
       "2                                False   \n",
       "3                                 True   \n",
       "4                                False   \n",
       "\n",
       "   nivel_educativo_UNIVERSITARIO_COMPLETO  \\\n",
       "0                                   False   \n",
       "1                                    True   \n",
       "2                                   False   \n",
       "3                                   False   \n",
       "4                                   False   \n",
       "\n",
       "   nivel_educativo_UNIVERSITARIO_INCOMPLETO  \n",
       "0                                     False  \n",
       "1                                     False  \n",
       "2                                     False  \n",
       "3                                     False  \n",
       "4                                      True  \n",
       "\n",
       "[5 rows x 39 columns]"
      ]
     },
     "execution_count": 2,
     "metadata": {},
     "output_type": "execute_result"
    }
   ],
   "source": [
    "df = pd.read_csv(\"../../../data/final/datos_finales_clusterizacion.csv\", sep=\";\")\n",
    "df.head(5)"
   ]
  },
  {
   "cell_type": "code",
   "execution_count": 3,
   "metadata": {},
   "outputs": [],
   "source": [
    "# Transformación por las características de mlflow para la detección de nulos en campos de tipo integer\n",
    "df = df.astype({col: 'float64' for col in df.select_dtypes(include='int').columns})"
   ]
  },
  {
   "cell_type": "markdown",
   "metadata": {},
   "source": [
    "----\n",
    "\n",
    "##### Configuración de la experimentación"
   ]
  },
  {
   "cell_type": "code",
   "execution_count": 4,
   "metadata": {},
   "outputs": [],
   "source": [
    "# Se genera el experimento en mlflow\n",
    "exp_name = 'Experimentación clustering #1 (SP7)'\n",
    "exp_id = mlflow.create_experiment(name=exp_name)"
   ]
  },
  {
   "cell_type": "code",
   "execution_count": 5,
   "metadata": {},
   "outputs": [
    {
     "name": "stderr",
     "output_type": "stream",
     "text": [
      "2025/05/06 19:58:58 WARNING mlflow.utils.environment: Failed to resolve installed pip version. ``pip`` will be added to conda.yaml environment spec without a version specifier.\n"
     ]
    },
    {
     "data": {
      "application/vnd.jupyter.widget-view+json": {
       "model_id": "c572a38fbc8b4398be9c9efb1a05549f",
       "version_major": 2,
       "version_minor": 0
      },
      "text/plain": [
       "Downloading artifacts:   0%|          | 0/7 [00:00<?, ?it/s]"
      ]
     },
     "metadata": {},
     "output_type": "display_data"
    }
   ],
   "source": [
    "# Por cada método se debe registrar la ejecución\n",
    "with mlflow.start_run(experiment_id=exp_id, run_name=\"Kmeans - K=2\"):\n",
    "    # Selección y configuración de la técnica\n",
    "    modelo_clusters = KMeans(n_clusters=2)\n",
    "    \n",
    "    trained_model = modelo_clusters.fit(df)\n",
    "    cluster_labels = trained_model.labels_\n",
    "\n",
    "    # Se realizar el cálculo de las métricas seleccionadas\n",
    "    score_s = silhouette_score(df, cluster_labels)\n",
    "    score_db = davies_bouldin_score(df, cluster_labels)\n",
    "    score_ch = calinski_harabasz_score(df, cluster_labels)\n",
    "\n",
    "    # Se registra el parámetro K\n",
    "    mlflow.log_param('Valor K', 2)\n",
    "\n",
    "    # Se registran las métricas de evaluación\n",
    "    mlflow.log_metric('silhouette_score', score_s)\n",
    "    mlflow.log_metric('davies_bouldin_score', score_db)\n",
    "    mlflow.log_metric('calinski_harabasz_score', score_ch)\n",
    "\n",
    "    # Se guarda el modelo generado\n",
    "    input_example = df.iloc[0].to_frame().T\n",
    "    signature = infer_signature(df, cluster_labels)\n",
    "    mlflow.sklearn.log_model(trained_model, \"Kmeans_K2\", input_example=input_example, signature=signature)\n",
    "\n",
    "    # Se finaliza el registro\n",
    "    mlflow.end_run()"
   ]
  },
  {
   "cell_type": "markdown",
   "metadata": {},
   "source": [
    "Para contabilizar los elementos por cluster se utilizan las labels generadas"
   ]
  },
  {
   "cell_type": "code",
   "execution_count": 6,
   "metadata": {},
   "outputs": [
    {
     "data": {
      "text/plain": [
       "cluster\n",
       "0    8276\n",
       "1     602\n",
       "Name: count, dtype: int64"
      ]
     },
     "execution_count": 6,
     "metadata": {},
     "output_type": "execute_result"
    }
   ],
   "source": [
    "# Se preserva el conjunto de datos original para evitar problemas\n",
    "df_kmeans_k2 = df.copy()\n",
    "# Se agregan las labels generadas\n",
    "df_kmeans_k2['cluster'] = cluster_labels\n",
    "df_kmeans_k2['cluster'].value_counts()"
   ]
  },
  {
   "cell_type": "markdown",
   "metadata": {},
   "source": [
    "Se hace la exportación de los resultados a un archivo .csv nuevo"
   ]
  },
  {
   "cell_type": "code",
   "execution_count": 7,
   "metadata": {},
   "outputs": [],
   "source": [
    "df_kmeans_k2.to_csv(\"../../../data/final/df_kms_k2.csv\", sep=\";\", index=False)"
   ]
  },
  {
   "cell_type": "markdown",
   "metadata": {},
   "source": [
    "Se pasa a probar otro método (clustering jerárquico)"
   ]
  },
  {
   "cell_type": "code",
   "execution_count": 8,
   "metadata": {},
   "outputs": [
    {
     "name": "stderr",
     "output_type": "stream",
     "text": [
      "2025/05/06 20:00:00 WARNING mlflow.sklearn: Model was missing function: predict. Not logging python_function flavor!\n",
      "2025/05/06 20:00:08 WARNING mlflow.utils.environment: Failed to resolve installed pip version. ``pip`` will be added to conda.yaml environment spec without a version specifier.\n"
     ]
    }
   ],
   "source": [
    "# Por cada método se debe registrar la ejecución\n",
    "with mlflow.start_run(experiment_id=exp_id, run_name=\"AGClustering - K=2\"):\n",
    "    # Selección y configuración de la técnica\n",
    "    modelo_clusters = AgglomerativeClustering(n_clusters=2)\n",
    "    \n",
    "    trained_model = modelo_clusters.fit(df)\n",
    "    cluster_labels = trained_model.labels_\n",
    "\n",
    "    # Se realizar el cálculo de las métricas seleccionadas\n",
    "    score_s = silhouette_score(df, cluster_labels)\n",
    "    score_db = davies_bouldin_score(df, cluster_labels)\n",
    "    score_ch = calinski_harabasz_score(df, cluster_labels)\n",
    "\n",
    "    # Se registra el parámetro K\n",
    "    mlflow.log_param('Valor K', 2)\n",
    "\n",
    "    # Se registran las métricas de evaluación\n",
    "    mlflow.log_metric('silhouette_score', score_s)\n",
    "    mlflow.log_metric('davies_bouldin_score', score_db)\n",
    "    mlflow.log_metric('calinski_harabasz_score', score_ch)\n",
    "\n",
    "    # Se guarda el modelo generado\n",
    "    # input_example = df.iloc[0].to_frame().T\n",
    "    signature = infer_signature(df, cluster_labels)\n",
    "    mlflow.sklearn.log_model(trained_model, \"AGC_2\", signature=signature)\n",
    "\n",
    "    # Se finaliza el registro\n",
    "    mlflow.end_run()"
   ]
  },
  {
   "cell_type": "markdown",
   "metadata": {},
   "source": [
    "Para contabilizar los elementos por cluster se utilizan las labels generadas"
   ]
  },
  {
   "cell_type": "code",
   "execution_count": 9,
   "metadata": {},
   "outputs": [
    {
     "data": {
      "text/plain": [
       "cluster\n",
       "0    8508\n",
       "1     370\n",
       "Name: count, dtype: int64"
      ]
     },
     "execution_count": 9,
     "metadata": {},
     "output_type": "execute_result"
    }
   ],
   "source": [
    "# Se preserva el conjunto de datos original para evitar problemas\n",
    "df_agc_k2 = df.copy()\n",
    "# Se agregan las labels generadas\n",
    "df_agc_k2['cluster'] = cluster_labels\n",
    "df_agc_k2['cluster'].value_counts()"
   ]
  },
  {
   "cell_type": "markdown",
   "metadata": {},
   "source": [
    "Se realiza la exportación de los resultados"
   ]
  },
  {
   "cell_type": "code",
   "execution_count": 10,
   "metadata": {},
   "outputs": [],
   "source": [
    "df_agc_k2.to_csv(\"../../../data/final/df_agc_k2.csv\", sep=\";\", index=False)"
   ]
  },
  {
   "cell_type": "markdown",
   "metadata": {},
   "source": [
    "Prueba con otro método paramétrico"
   ]
  },
  {
   "cell_type": "code",
   "execution_count": 11,
   "metadata": {},
   "outputs": [
    {
     "name": "stderr",
     "output_type": "stream",
     "text": [
      "2025/05/06 20:03:48 WARNING mlflow.utils.environment: Failed to resolve installed pip version. ``pip`` will be added to conda.yaml environment spec without a version specifier.\n"
     ]
    }
   ],
   "source": [
    "with mlflow.start_run(experiment_id=exp_id, run_name=\"Birch - K = 2\"):\n",
    "    modelo_clusters = Birch(n_clusters=2)\n",
    "    trained_model = modelo_clusters.fit(df)\n",
    "    cluster_labels = trained_model.labels_\n",
    "\n",
    "    # Calcular métricas\n",
    "    score_s = silhouette_score(df, cluster_labels)\n",
    "    score_db = davies_bouldin_score(df, cluster_labels)\n",
    "    score_ch = calinski_harabasz_score(df, cluster_labels)\n",
    "\n",
    "    # Se registra el parámetro K\n",
    "    mlflow.log_param('Valor K', 2)\n",
    "\n",
    "    # Registrar métricas\n",
    "    mlflow.log_metric('silhouette_score', score_s)\n",
    "    mlflow.log_metric('davies_bouldin_score', score_db)\n",
    "    mlflow.log_metric('calinski_harabasz_score', score_ch)\n",
    "\n",
    "    # Guardar el modelo\n",
    "    signature = infer_signature(df, cluster_labels)\n",
    "    mlflow.sklearn.log_model(trained_model, \"Birch_Model\", signature=signature)\n",
    "\n",
    "    mlflow.end_run()"
   ]
  },
  {
   "cell_type": "code",
   "execution_count": 12,
   "metadata": {},
   "outputs": [
    {
     "data": {
      "text/plain": [
       "cluster\n",
       "0    8508\n",
       "1     370\n",
       "Name: count, dtype: int64"
      ]
     },
     "execution_count": 12,
     "metadata": {},
     "output_type": "execute_result"
    }
   ],
   "source": [
    "# Se preserva el conjunto de datos original para evitar problemas\n",
    "df_bc = df.copy()\n",
    "# Se agregan las labels generadas\n",
    "df_bc['cluster'] = cluster_labels\n",
    "df_bc['cluster'].value_counts()"
   ]
  },
  {
   "cell_type": "markdown",
   "metadata": {},
   "source": [
    "Se prueba con Kmeans pero con K = 3"
   ]
  },
  {
   "cell_type": "markdown",
   "metadata": {},
   "source": [
    "Para contabilizar los elementos por cluster se utilizan las labels generadas"
   ]
  },
  {
   "cell_type": "code",
   "execution_count": 13,
   "metadata": {},
   "outputs": [
    {
     "name": "stderr",
     "output_type": "stream",
     "text": [
      "2025/05/06 20:25:55 WARNING mlflow.utils.environment: Failed to resolve installed pip version. ``pip`` will be added to conda.yaml environment spec without a version specifier.\n"
     ]
    },
    {
     "data": {
      "application/vnd.jupyter.widget-view+json": {
       "model_id": "736cea32b31b4ec4a371e1973ca0e759",
       "version_major": 2,
       "version_minor": 0
      },
      "text/plain": [
       "Downloading artifacts:   0%|          | 0/7 [00:00<?, ?it/s]"
      ]
     },
     "metadata": {},
     "output_type": "display_data"
    }
   ],
   "source": [
    "# Por cada método se debe registrar la ejecución\n",
    "with mlflow.start_run(experiment_id=exp_id, run_name=\"Kmeans - K=3\"):\n",
    "    # Selección y configuración de la técnica\n",
    "    modelo_clusters = KMeans(n_clusters=3)\n",
    "    \n",
    "    trained_model = modelo_clusters.fit(df)\n",
    "    cluster_labels = trained_model.labels_\n",
    "\n",
    "    # Se realizar el cálculo de las métricas seleccionadas\n",
    "    score_s = silhouette_score(df, cluster_labels)\n",
    "    score_db = davies_bouldin_score(df, cluster_labels)\n",
    "    score_ch = calinski_harabasz_score(df, cluster_labels)\n",
    "\n",
    "    # Se registra el parámetro K\n",
    "    mlflow.log_param('Valor K', 3)\n",
    "\n",
    "    # Se registran las métricas de evaluación\n",
    "    mlflow.log_metric('silhouette_score', score_s)\n",
    "    mlflow.log_metric('davies_bouldin_score', score_db)\n",
    "    mlflow.log_metric('calinski_harabasz_score', score_ch)\n",
    "\n",
    "    # Se guarda el modelo generado\n",
    "    input_example = df.iloc[0].to_frame().T\n",
    "    signature = infer_signature(df, cluster_labels)\n",
    "    mlflow.sklearn.log_model(trained_model, \"Kmeans_K3\", input_example=input_example, signature=signature)\n",
    "\n",
    "    # Se finaliza el registro\n",
    "    mlflow.end_run()"
   ]
  },
  {
   "cell_type": "code",
   "execution_count": 14,
   "metadata": {},
   "outputs": [
    {
     "data": {
      "text/plain": [
       "cluster\n",
       "0    4701\n",
       "1    3872\n",
       "2     305\n",
       "Name: count, dtype: int64"
      ]
     },
     "execution_count": 14,
     "metadata": {},
     "output_type": "execute_result"
    }
   ],
   "source": [
    "# Se preserva el conjunto de datos original para evitar problemas\n",
    "df_kms_k3 = df.copy()\n",
    "# Se agregan las labels generadas\n",
    "df_kms_k3['cluster'] = cluster_labels\n",
    "df_kms_k3['cluster'].value_counts()"
   ]
  },
  {
   "cell_type": "markdown",
   "metadata": {},
   "source": [
    "### Opciones de optimización del proceso\n",
    "\n",
    "Utilizar PCA (solo para visualización de clusters) y un proceso de normalización de valores para eliminar el impacto de las diferencias en el dataset en la clusterización."
   ]
  },
  {
   "cell_type": "code",
   "execution_count": 15,
   "metadata": {},
   "outputs": [],
   "source": [
    "from sklearn.decomposition import PCA\n",
    "from sklearn.preprocessing import StandardScaler\n",
    "import matplotlib.pyplot as plt\n",
    "\n",
    "# Normalización de los datos\n",
    "scaler = StandardScaler()\n",
    "df_normalizado = scaler.fit_transform(df)\n",
    "\n",
    "# Aplicación de PCA\n",
    "pca = PCA(n_components=2)\n",
    "df_pca = pca.fit_transform(df_normalizado)\n",
    "\n",
    "# Clusterización con las diferentes técnicas"
   ]
  },
  {
   "cell_type": "code",
   "execution_count": 16,
   "metadata": {},
   "outputs": [],
   "source": [
    "# Se genera el experimento en mlflow\n",
    "exp_name = 'Experimentación clustering #2'\n",
    "exp_id = mlflow.create_experiment(name=exp_name)"
   ]
  },
  {
   "cell_type": "code",
   "execution_count": 17,
   "metadata": {},
   "outputs": [
    {
     "name": "stderr",
     "output_type": "stream",
     "text": [
      "2025/05/06 20:35:22 WARNING mlflow.utils.environment: Failed to resolve installed pip version. ``pip`` will be added to conda.yaml environment spec without a version specifier.\n"
     ]
    },
    {
     "data": {
      "application/vnd.jupyter.widget-view+json": {
       "model_id": "6f29ebdde2974e6f8b60be7230cc0a51",
       "version_major": 2,
       "version_minor": 0
      },
      "text/plain": [
       "Downloading artifacts:   0%|          | 0/7 [00:00<?, ?it/s]"
      ]
     },
     "metadata": {},
     "output_type": "display_data"
    }
   ],
   "source": [
    "# Por cada método se debe registrar la ejecución\n",
    "with mlflow.start_run(experiment_id=exp_id, run_name=\"Kmeans N - K=2\"):\n",
    "    # Selección y configuración de la técnica\n",
    "    modelo_clusters = KMeans(n_clusters=2)\n",
    "    \n",
    "    trained_model = modelo_clusters.fit(df_normalizado)\n",
    "    cluster_labels = trained_model.labels_\n",
    "\n",
    "    # Se realizar el cálculo de las métricas seleccionadas\n",
    "    score_s = silhouette_score(df_normalizado, cluster_labels)\n",
    "    score_db = davies_bouldin_score(df_normalizado, cluster_labels)\n",
    "    score_ch = calinski_harabasz_score(df_normalizado, cluster_labels)\n",
    "\n",
    "    # Se registra el parámetro K\n",
    "    mlflow.log_param('Valor K', 2)\n",
    "\n",
    "    # Se registran las métricas de evaluación\n",
    "    mlflow.log_metric('silhouette_score', score_s)\n",
    "    mlflow.log_metric('davies_bouldin_score', score_db)\n",
    "    mlflow.log_metric('calinski_harabasz_score', score_ch)\n",
    "\n",
    "    # Se guarda el modelo generado\n",
    "    # input_example = df_normalizado.iloc[0].to_frame().T\n",
    "    signature = infer_signature(df_normalizado, cluster_labels)\n",
    "    mlflow.sklearn.log_model(trained_model, \"Kmeans_K2_N\", input_example=input_example, signature=signature)\n",
    "\n",
    "    # Se finaliza el registro\n",
    "    mlflow.end_run()"
   ]
  },
  {
   "cell_type": "code",
   "execution_count": 18,
   "metadata": {},
   "outputs": [
    {
     "data": {
      "text/plain": [
       "cluster\n",
       "1    6850\n",
       "0    2028\n",
       "Name: count, dtype: int64"
      ]
     },
     "execution_count": 18,
     "metadata": {},
     "output_type": "execute_result"
    }
   ],
   "source": [
    "# Se preserva el conjunto de datos original para evitar problemas\n",
    "# Convertir df_normalizado a un DataFrame de pandas\n",
    "df_kms_k2_n = pd.DataFrame(df_normalizado, columns=df.columns)\n",
    "\n",
    "# Se agregan las labels generadas\n",
    "df_kms_k2_n['cluster'] = cluster_labels\n",
    "\n",
    "# Contar los elementos por cluster\n",
    "df_kms_k2_n['cluster'].value_counts()"
   ]
  }
 ],
 "metadata": {
  "kernelspec": {
   "display_name": ".venv",
   "language": "python",
   "name": "python3"
  },
  "language_info": {
   "codemirror_mode": {
    "name": "ipython",
    "version": 3
   },
   "file_extension": ".py",
   "mimetype": "text/x-python",
   "name": "python",
   "nbconvert_exporter": "python",
   "pygments_lexer": "ipython3",
   "version": "3.12.10"
  }
 },
 "nbformat": 4,
 "nbformat_minor": 2
}
